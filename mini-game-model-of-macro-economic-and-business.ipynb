{
 "cells": [
  {
   "cell_type": "markdown",
   "id": "af00f164",
   "metadata": {
    "execution": {
     "iopub.execute_input": "2021-12-20T12:51:07.320336Z",
     "iopub.status.busy": "2021-12-20T12:51:07.319232Z",
     "iopub.status.idle": "2021-12-20T12:51:07.326952Z",
     "shell.execute_reply": "2021-12-20T12:51:07.325521Z",
     "shell.execute_reply.started": "2021-12-20T12:51:07.320273Z"
    },
    "papermill": {
     "duration": 0.018459,
     "end_time": "2021-12-26T03:37:56.445554",
     "exception": false,
     "start_time": "2021-12-26T03:37:56.427095",
     "status": "completed"
    },
    "tags": []
   },
   "source": [
    "![loading.jpg](https://images.mubicdn.net/images/film/86759/cache-49023-1445917651/image-w1280.jpg?size=800x)"
   ]
  },
  {
   "cell_type": "markdown",
   "id": "56a634d4",
   "metadata": {
    "papermill": {
     "duration": 0.016607,
     "end_time": "2021-12-26T03:37:56.479215",
     "exception": false,
     "start_time": "2021-12-26T03:37:56.462608",
     "status": "completed"
    },
    "tags": []
   },
   "source": [
    "I am trying to build a simulation to mimic what would happen in an macro economic world, it would be interesting.<br>\n",
    "And 80% of browser size might be friendly for reading : )<br><br>\n",
    "Here is short introduction of each topic, to save your time, you can read below words and feel free to jump to the topic that you are interested with. <br>\n",
    "* I. Enviroment configuration: <br>\n",
    " * Create some main actors in this show.2 companies at the moment, Apple and Microsoft <br>\n",
    "* II.Monetary policy <br>\n",
    " * a. Overnight loan rate: Trying to introduce how the overnight loan rate set by central bank would impact the economy <br>\n",
    "* III. TBD..."
   ]
  },
  {
   "cell_type": "markdown",
   "id": "d953a968",
   "metadata": {
    "papermill": {
     "duration": 0.016428,
     "end_time": "2021-12-26T03:37:56.512457",
     "exception": false,
     "start_time": "2021-12-26T03:37:56.496029",
     "status": "completed"
    },
    "tags": []
   },
   "source": [
    "# I. Enviroment configuration\n",
    "#### a. Players\n",
    "First, let's starting with building 2 companies."
   ]
  },
  {
   "cell_type": "code",
   "execution_count": 1,
   "id": "0e235094",
   "metadata": {
    "execution": {
     "iopub.execute_input": "2021-12-26T03:37:56.551502Z",
     "iopub.status.busy": "2021-12-26T03:37:56.550215Z",
     "iopub.status.idle": "2021-12-26T03:37:56.560811Z",
     "shell.execute_reply": "2021-12-26T03:37:56.561389Z",
     "shell.execute_reply.started": "2021-12-25T23:16:44.58057Z"
    },
    "papermill": {
     "duration": 0.032316,
     "end_time": "2021-12-26T03:37:56.561689",
     "exception": false,
     "start_time": "2021-12-26T03:37:56.529373",
     "status": "completed"
    },
    "tags": []
   },
   "outputs": [],
   "source": [
    "from random import randint # import a package to generate random number"
   ]
  },
  {
   "cell_type": "code",
   "execution_count": 2,
   "id": "16060c07",
   "metadata": {
    "execution": {
     "iopub.execute_input": "2021-12-26T03:37:56.604944Z",
     "iopub.status.busy": "2021-12-26T03:37:56.599053Z",
     "iopub.status.idle": "2021-12-26T03:37:56.607590Z",
     "shell.execute_reply": "2021-12-26T03:37:56.608213Z",
     "shell.execute_reply.started": "2021-12-25T23:16:44.609044Z"
    },
    "papermill": {
     "duration": 0.029053,
     "end_time": "2021-12-26T03:37:56.608412",
     "exception": false,
     "start_time": "2021-12-26T03:37:56.579359",
     "status": "completed"
    },
    "tags": []
   },
   "outputs": [],
   "source": [
    "class company:\n",
    "    \"\"\"A simple attempt to model a company\"\"\"\n",
    "    \n",
    "    def __init__(self, com_name, num_employee):\n",
    "        \"\"\"Initialize company name and number of employee in the company\"\"\"\n",
    "        self.com_name = com_name\n",
    "        self.num_employee = num_employee\n",
    "        \n",
    "    def com_sta(self):\n",
    "        \"\"\"Introduce the basic status of the company\"\"\"\n",
    "        print(f\"The company name is {self.com_name}\")\n",
    "    \n",
    "    def employee_issue(self, monetary_policy):\n",
    "        \"\"\"This function would change the number of employees within company\"\"\"\n",
    "        if monetary_policy == 'contractionary monetary policy':\n",
    "            rand_var = randint(1000,5000) # a random variable\n",
    "            temp = self.num_employee\n",
    "            self.num_employee = self.num_employee - rand_var\n",
    "            print(f\"The number of employees in {self.com_name} decreases from {temp} to {self.num_employee}, {rand_var} person left the company\")\n",
    "        else:\n",
    "            rand_var = randint(1000,5000)\n",
    "            temp = self.num_employee\n",
    "            self.num_employee = self.num_employee + rand_var\n",
    "            print(f\"The number of employee in {self.com_name} increases from {temp} to {self.num_employee}, {rand_var} person joined the company\")"
   ]
  },
  {
   "cell_type": "code",
   "execution_count": 3,
   "id": "de7a0938",
   "metadata": {
    "execution": {
     "iopub.execute_input": "2021-12-26T03:37:56.646847Z",
     "iopub.status.busy": "2021-12-26T03:37:56.646161Z",
     "iopub.status.idle": "2021-12-26T03:37:56.650268Z",
     "shell.execute_reply": "2021-12-26T03:37:56.650702Z",
     "shell.execute_reply.started": "2021-12-25T23:16:44.618832Z"
    },
    "papermill": {
     "duration": 0.024898,
     "end_time": "2021-12-26T03:37:56.650940",
     "exception": false,
     "start_time": "2021-12-26T03:37:56.626042",
     "status": "completed"
    },
    "tags": []
   },
   "outputs": [],
   "source": [
    "com_a = company('Apple',10000)\n",
    "com_a_employee_trend = [com_a.num_employee]# to store the number of employee for company Apple"
   ]
  },
  {
   "cell_type": "code",
   "execution_count": 4,
   "id": "fae79c43",
   "metadata": {
    "execution": {
     "iopub.execute_input": "2021-12-26T03:37:56.689948Z",
     "iopub.status.busy": "2021-12-26T03:37:56.689292Z",
     "iopub.status.idle": "2021-12-26T03:37:56.695560Z",
     "shell.execute_reply": "2021-12-26T03:37:56.694497Z",
     "shell.execute_reply.started": "2021-12-25T23:16:44.632027Z"
    },
    "papermill": {
     "duration": 0.026511,
     "end_time": "2021-12-26T03:37:56.695828",
     "exception": false,
     "start_time": "2021-12-26T03:37:56.669317",
     "status": "completed"
    },
    "tags": []
   },
   "outputs": [
    {
     "name": "stdout",
     "output_type": "stream",
     "text": [
      "The name of the company is Apple, the company has 10000 employees.\n"
     ]
    }
   ],
   "source": [
    "print(f\"The name of the company is {com_a.com_name}, the company has {com_a.num_employee} employees.\")"
   ]
  },
  {
   "cell_type": "code",
   "execution_count": 5,
   "id": "c88c070e",
   "metadata": {
    "execution": {
     "iopub.execute_input": "2021-12-26T03:37:56.736600Z",
     "iopub.status.busy": "2021-12-26T03:37:56.735967Z",
     "iopub.status.idle": "2021-12-26T03:37:56.739630Z",
     "shell.execute_reply": "2021-12-26T03:37:56.740145Z",
     "shell.execute_reply.started": "2021-12-25T23:16:44.646471Z"
    },
    "papermill": {
     "duration": 0.025391,
     "end_time": "2021-12-26T03:37:56.740311",
     "exception": false,
     "start_time": "2021-12-26T03:37:56.714920",
     "status": "completed"
    },
    "tags": []
   },
   "outputs": [],
   "source": [
    "com_m = company('Microsoft',11000)\n",
    "com_m_employee_trend = [com_m.num_employee]# to store the number of employee for company Microsoft"
   ]
  },
  {
   "cell_type": "code",
   "execution_count": 6,
   "id": "3ad6673d",
   "metadata": {
    "execution": {
     "iopub.execute_input": "2021-12-26T03:37:56.779475Z",
     "iopub.status.busy": "2021-12-26T03:37:56.778692Z",
     "iopub.status.idle": "2021-12-26T03:37:56.784245Z",
     "shell.execute_reply": "2021-12-26T03:37:56.784946Z",
     "shell.execute_reply.started": "2021-12-25T23:16:44.658819Z"
    },
    "papermill": {
     "duration": 0.027009,
     "end_time": "2021-12-26T03:37:56.785157",
     "exception": false,
     "start_time": "2021-12-26T03:37:56.758148",
     "status": "completed"
    },
    "tags": []
   },
   "outputs": [
    {
     "name": "stdout",
     "output_type": "stream",
     "text": [
      "The name of the company is Microsoft, the company has 11000 employees.\n"
     ]
    }
   ],
   "source": [
    "print(f\"The name of the company is {com_m.com_name}, the company has {com_m.num_employee} employees.\")"
   ]
  },
  {
   "cell_type": "markdown",
   "id": "47191301",
   "metadata": {
    "papermill": {
     "duration": 0.017881,
     "end_time": "2021-12-26T03:37:56.821497",
     "exception": false,
     "start_time": "2021-12-26T03:37:56.803616",
     "status": "completed"
    },
    "tags": []
   },
   "source": [
    "Till here I create 2 companies, Apple and Microsoft, their status are as above.</br>\n",
    "It would be fun if I set an central bank overnight loan rate"
   ]
  },
  {
   "cell_type": "markdown",
   "id": "8b546cf4",
   "metadata": {
    "papermill": {
     "duration": 0.01704,
     "end_time": "2021-12-26T03:37:56.855703",
     "exception": false,
     "start_time": "2021-12-26T03:37:56.838663",
     "status": "completed"
    },
    "tags": []
   },
   "source": [
    "# II. Monetary policy\n",
    "#### a. Overnight loan rate\n",
    "Now I am going to setup the new central bank overnight rate, and everyone knows it would influence a lot of things"
   ]
  },
  {
   "cell_type": "code",
   "execution_count": 7,
   "id": "2c83ae0a",
   "metadata": {
    "execution": {
     "iopub.execute_input": "2021-12-26T03:37:56.894020Z",
     "iopub.status.busy": "2021-12-26T03:37:56.893059Z",
     "iopub.status.idle": "2021-12-26T03:37:56.899719Z",
     "shell.execute_reply": "2021-12-26T03:37:56.899230Z",
     "shell.execute_reply.started": "2021-12-25T23:16:44.673271Z"
    },
    "papermill": {
     "duration": 0.026906,
     "end_time": "2021-12-26T03:37:56.899891",
     "exception": false,
     "start_time": "2021-12-26T03:37:56.872985",
     "status": "completed"
    },
    "tags": []
   },
   "outputs": [
    {
     "name": "stdout",
     "output_type": "stream",
     "text": [
      "Now the monetary policy is changed to contractionary monetary policy\n"
     ]
    }
   ],
   "source": [
    "cb_on_rate_pre = 0.045 # The central bank overnight rate that was set in the last anouncement\n",
    "cb_on_rate = 0.05 # Current central bank overnight rate\n",
    "monetary_policy = 'TBD' # An indicator of fiscal policy changing\n",
    "\n",
    "if cb_on_rate>cb_on_rate_pre:\n",
    "    monetary_policy = 'contractionary monetary policy'\n",
    "else:\n",
    "    monetary_policy = 'easy monetary policy'\n",
    "\n",
    "print(f\"Now the monetary policy is changed to {monetary_policy}\")"
   ]
  },
  {
   "cell_type": "markdown",
   "id": "d095811f",
   "metadata": {
    "papermill": {
     "duration": 0.01864,
     "end_time": "2021-12-26T03:37:56.937122",
     "exception": false,
     "start_time": "2021-12-26T03:37:56.918482",
     "status": "completed"
    },
    "tags": []
   },
   "source": [
    "Let's see how this monetary policy changing would affect both companies"
   ]
  },
  {
   "cell_type": "code",
   "execution_count": 8,
   "id": "9c57f94d",
   "metadata": {
    "execution": {
     "iopub.execute_input": "2021-12-26T03:37:56.977057Z",
     "iopub.status.busy": "2021-12-26T03:37:56.976111Z",
     "iopub.status.idle": "2021-12-26T03:37:56.981426Z",
     "shell.execute_reply": "2021-12-26T03:37:56.981969Z",
     "shell.execute_reply.started": "2021-12-25T23:16:44.684254Z"
    },
    "papermill": {
     "duration": 0.026426,
     "end_time": "2021-12-26T03:37:56.982148",
     "exception": false,
     "start_time": "2021-12-26T03:37:56.955722",
     "status": "completed"
    },
    "tags": []
   },
   "outputs": [
    {
     "name": "stdout",
     "output_type": "stream",
     "text": [
      "The number of employees in Apple decreases from 10000 to 8761, 1239 person left the company\n",
      "The number of employees in Microsoft decreases from 11000 to 7725, 3275 person left the company\n"
     ]
    }
   ],
   "source": [
    "com_a.employee_issue(monetary_policy)\n",
    "com_m.employee_issue(monetary_policy)"
   ]
  },
  {
   "cell_type": "markdown",
   "id": "11a16cb7",
   "metadata": {
    "papermill": {
     "duration": 0.018662,
     "end_time": "2021-12-26T03:37:57.019563",
     "exception": false,
     "start_time": "2021-12-26T03:37:57.000901",
     "status": "completed"
    },
    "tags": []
   },
   "source": [
    "Oops, it seems in my little code world, monetary policy changing made things bad, let's visualize this result!"
   ]
  },
  {
   "cell_type": "code",
   "execution_count": 9,
   "id": "89d4a724",
   "metadata": {
    "execution": {
     "iopub.execute_input": "2021-12-26T03:37:57.062521Z",
     "iopub.status.busy": "2021-12-26T03:37:57.061534Z",
     "iopub.status.idle": "2021-12-26T03:37:57.361306Z",
     "shell.execute_reply": "2021-12-26T03:37:57.360637Z",
     "shell.execute_reply.started": "2021-12-25T23:16:44.699747Z"
    },
    "papermill": {
     "duration": 0.322915,
     "end_time": "2021-12-26T03:37:57.361465",
     "exception": false,
     "start_time": "2021-12-26T03:37:57.038550",
     "status": "completed"
    },
    "tags": []
   },
   "outputs": [
    {
     "name": "stdout",
     "output_type": "stream",
     "text": [
      "     Apple  Microsoft\n",
      "0  10000.0        NaN\n",
      "1   8761.0        NaN\n",
      "0      NaN    11000.0\n",
      "1      NaN     7725.0\n"
     ]
    },
    {
     "data": {
      "text/plain": [
       "<AxesSubplot:>"
      ]
     },
     "execution_count": 9,
     "metadata": {},
     "output_type": "execute_result"
    },
    {
     "data": {
      "image/png": "[encoded data removed]",
      "text/plain": [
       "<Figure size 432x288 with 1 Axes>"
      ]
     },
     "metadata": {
      "needs_background": "light"
     },
     "output_type": "display_data"
    }
   ],
   "source": [
    "import pandas as pd\n",
    "import numpy as np\n",
    "import matplotlib.pyplot as plt\n",
    "\n",
    "com_a_employee_trend.append(com_a.num_employee)\n",
    "com_m_employee_trend.append(com_m.num_employee)\n",
    "\n",
    "com_a_employee_tab = pd.DataFrame({com_a.com_name:com_a_employee_trend})\n",
    "com_m_employee_tab = pd.DataFrame({com_m.com_name:com_m_employee_trend})\n",
    "\n",
    "combined = pd.concat([com_a_employee_tab,com_m_employee_tab])\n",
    "print(combined)\n",
    "combined.plot()"
   ]
  },
  {
   "cell_type": "markdown",
   "id": "e4ed8b3b",
   "metadata": {
    "papermill": {
     "duration": 0.023357,
     "end_time": "2021-12-26T03:37:57.406571",
     "exception": false,
     "start_time": "2021-12-26T03:37:57.383214",
     "status": "completed"
    },
    "tags": []
   },
   "source": [
    "Obviously, number of employees from both companies droped a lot!"
   ]
  },
  {
   "cell_type": "markdown",
   "id": "bd58f17a",
   "metadata": {
    "papermill": {
     "duration": 0.019982,
     "end_time": "2021-12-26T03:37:57.447860",
     "exception": false,
     "start_time": "2021-12-26T03:37:57.427878",
     "status": "completed"
    },
    "tags": []
   },
   "source": [
    "# III. Term rate vs. overnight rate\n",
    "Theoritically, term rate equals rolling over of overnight rate, as formula set below<br>\n",
    "* term rate= (1+over night rate)<sup>n</sup>"
   ]
  },
  {
   "cell_type": "markdown",
   "id": "2eb786a4",
   "metadata": {
    "papermill": {
     "duration": 0.019637,
     "end_time": "2021-12-26T03:37:57.487719",
     "exception": false,
     "start_time": "2021-12-26T03:37:57.468082",
     "status": "completed"
    },
    "tags": []
   },
   "source": [
    "As currently the overnight rate that the central bank set is 5%(Really high comparing with the real world...)<br>\n",
    "So the rate changes over time is like below"
   ]
  },
  {
   "cell_type": "code",
   "execution_count": 10,
   "id": "23f05a1b",
   "metadata": {
    "execution": {
     "iopub.execute_input": "2021-12-26T03:37:57.533229Z",
     "iopub.status.busy": "2021-12-26T03:37:57.530094Z",
     "iopub.status.idle": "2021-12-26T03:37:57.850683Z",
     "shell.execute_reply": "2021-12-26T03:37:57.851280Z",
     "shell.execute_reply.started": "2021-12-25T23:16:45.021532Z"
    },
    "papermill": {
     "duration": 0.343873,
     "end_time": "2021-12-26T03:37:57.851464",
     "exception": false,
     "start_time": "2021-12-26T03:37:57.507591",
     "status": "completed"
    },
    "tags": []
   },
   "outputs": [
    {
     "data": {
      "text/plain": [
       "<AxesSubplot:>"
      ]
     },
     "execution_count": 10,
     "metadata": {},
     "output_type": "execute_result"
    },
    {
     "data": {
      "image/png": "[encoded data removed]",
      "text/plain": [
       "<Figure size 432x288 with 1 Axes>"
      ]
     },
     "metadata": {
      "needs_background": "light"
     },
     "output_type": "display_data"
    }
   ],
   "source": [
    "import numpy as np # import linear algebra package\n",
    "\n",
    "term_list = [cb_on_rate]\n",
    "for i in range(60):\n",
    "    term_list.append((cb_on_rate)*(1+i))\n",
    "    \n",
    "pd.Series(term_list).plot()"
   ]
  },
  {
   "cell_type": "markdown",
   "id": "4e0582b4",
   "metadata": {
    "papermill": {
     "duration": 0.022057,
     "end_time": "2021-12-26T03:37:57.896367",
     "exception": false,
     "start_time": "2021-12-26T03:37:57.874310",
     "status": "completed"
    },
    "tags": []
   },
   "source": [
    "As you can see above, theoritically the term rate would increase as above curve shows.<br>\n",
    "In this case, the 60 days overnight rate is about 295%, as below<br>\n",
    "Which is really high, so there is a room for bank to provide a cheap long term money, so in real like, the rate curve is more like a parabola"
   ]
  },
  {
   "cell_type": "code",
   "execution_count": 11,
   "id": "ed6de164",
   "metadata": {
    "execution": {
     "iopub.execute_input": "2021-12-26T03:37:57.944645Z",
     "iopub.status.busy": "2021-12-26T03:37:57.943828Z",
     "iopub.status.idle": "2021-12-26T03:37:57.948888Z",
     "shell.execute_reply": "2021-12-26T03:37:57.949375Z",
     "shell.execute_reply.started": "2021-12-25T23:16:45.349312Z"
    },
    "papermill": {
     "duration": 0.031236,
     "end_time": "2021-12-26T03:37:57.949537",
     "exception": false,
     "start_time": "2021-12-26T03:37:57.918301",
     "status": "completed"
    },
    "tags": []
   },
   "outputs": [
    {
     "data": {
      "text/plain": [
       "2.95"
      ]
     },
     "execution_count": 11,
     "metadata": {},
     "output_type": "execute_result"
    }
   ],
   "source": [
    "term_list[59]"
   ]
  },
  {
   "cell_type": "markdown",
   "id": "47cc5ee5",
   "metadata": {
    "papermill": {
     "duration": 0.020564,
     "end_time": "2021-12-26T03:37:57.991215",
     "exception": false,
     "start_time": "2021-12-26T03:37:57.970651",
     "status": "completed"
    },
    "tags": []
   },
   "source": [
    "# IV. Balance sheet of a bank"
   ]
  },
  {
   "cell_type": "markdown",
   "id": "f0b903cb",
   "metadata": {
    "papermill": {
     "duration": 0.021411,
     "end_time": "2021-12-26T03:37:58.033538",
     "exception": false,
     "start_time": "2021-12-26T03:37:58.012127",
     "status": "completed"
    },
    "tags": []
   },
   "source": [
    "Terminology explaination:\n",
    "* Asset: For a bank, normally asset is a type of loan offered by the bank\n",
    "* Liability: The way of funding money, it can be a short term of loan -> overnight loan, or long term loan\n",
    "* RMBS: Residential mortgage backed security\n",
    "* Overnight: Normally it refers to the loan offered by central bank, it is overnight loan\n",
    "* Term: Loan that is longer than 30 days? I forget the details..."
   ]
  },
  {
   "cell_type": "code",
   "execution_count": 12,
   "id": "3288ea68",
   "metadata": {
    "execution": {
     "iopub.execute_input": "2021-12-26T03:37:58.079866Z",
     "iopub.status.busy": "2021-12-26T03:37:58.078648Z",
     "iopub.status.idle": "2021-12-26T03:37:58.113145Z",
     "shell.execute_reply": "2021-12-26T03:37:58.113644Z",
     "shell.execute_reply.started": "2021-12-26T03:32:52.548208Z"
    },
    "papermill": {
     "duration": 0.059175,
     "end_time": "2021-12-26T03:37:58.113852",
     "exception": false,
     "start_time": "2021-12-26T03:37:58.054677",
     "status": "completed"
    },
    "tags": []
   },
   "outputs": [
    {
     "data": {
      "text/html": [
       "<div>\n",
       "<style scoped>\n",
       "    .dataframe tbody tr th:only-of-type {\n",
       "        vertical-align: middle;\n",
       "    }\n",
       "\n",
       "    .dataframe tbody tr th {\n",
       "        vertical-align: top;\n",
       "    }\n",
       "\n",
       "    .dataframe thead tr th {\n",
       "        text-align: left;\n",
       "    }\n",
       "\n",
       "    .dataframe thead tr:last-of-type th {\n",
       "        text-align: right;\n",
       "    }\n",
       "</style>\n",
       "<table border=\"1\" class=\"dataframe\">\n",
       "  <thead>\n",
       "    <tr>\n",
       "      <th></th>\n",
       "      <th colspan=\"2\" halign=\"left\">ledger_amount</th>\n",
       "    </tr>\n",
       "    <tr>\n",
       "      <th>ledger_type</th>\n",
       "      <th>Asset</th>\n",
       "      <th>Liability</th>\n",
       "    </tr>\n",
       "    <tr>\n",
       "      <th>ledger_sub_type</th>\n",
       "      <th></th>\n",
       "      <th></th>\n",
       "    </tr>\n",
       "  </thead>\n",
       "  <tbody>\n",
       "    <tr>\n",
       "      <th>Overnight</th>\n",
       "      <td>NaN</td>\n",
       "      <td>20.0</td>\n",
       "    </tr>\n",
       "    <tr>\n",
       "      <th>RBMS</th>\n",
       "      <td>30.0</td>\n",
       "      <td>NaN</td>\n",
       "    </tr>\n",
       "    <tr>\n",
       "      <th>Term</th>\n",
       "      <td>NaN</td>\n",
       "      <td>10.0</td>\n",
       "    </tr>\n",
       "  </tbody>\n",
       "</table>\n",
       "</div>"
      ],
      "text/plain": [
       "                ledger_amount          \n",
       "ledger_type             Asset Liability\n",
       "ledger_sub_type                        \n",
       "Overnight                 NaN      20.0\n",
       "RBMS                     30.0       NaN\n",
       "Term                      NaN      10.0"
      ]
     },
     "execution_count": 12,
     "metadata": {},
     "output_type": "execute_result"
    }
   ],
   "source": [
    "import pandas as pd \n",
    "ledger_amount = [30,20,10]\n",
    "ledger_type = ['Asset','Liability','Liability']\n",
    "ledger_sub_type = ['RBMS','Overnight','Term']\n",
    "\n",
    "bs_firma = {'ledger_amount':ledger_amount,'ledger_type':ledger_type,'ledger_sub_type':ledger_sub_type}\n",
    "bs_firma = pd.DataFrame(bs_firma)\n",
    "bs_firma.pivot_table(index=['ledger_sub_type'],columns = 'ledger_type')"
   ]
  }
 ],
 "metadata": {
  "kernelspec": {
   "display_name": "Python 3",
   "language": "python",
   "name": "python3"
  },
  "language_info": {
   "codemirror_mode": {
    "name": "ipython",
    "version": 3
   },
   "file_extension": ".py",
   "mimetype": "text/x-python",
   "name": "python",
   "nbconvert_exporter": "python",
   "pygments_lexer": "ipython3",
   "version": "3.7.12"
  },
  "papermill": {
   "default_parameters": {},
   "duration": 11.941302,
   "end_time": "2021-12-26T03:37:58.745520",
   "environment_variables": {},
   "exception": null,
   "input_path": "__notebook__.ipynb",
   "output_path": "__notebook__.ipynb",
   "parameters": {},
   "start_time": "2021-12-26T03:37:46.804218",
   "version": "2.3.3"
  }
 },
 "nbformat": 4,
 "nbformat_minor": 5
}
